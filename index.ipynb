{
  "cells": [
    {
      "cell_type": "markdown",
      "metadata": {
        "id": "view-in-github",
        "colab_type": "text"
      },
      "source": [
        "<a href=\"https://colab.research.google.com/github/VolhaP87/dsc-introduction-to-neural-networks-lab/blob/master/index.ipynb\" target=\"_parent\"><img src=\"https://colab.research.google.com/assets/colab-badge.svg\" alt=\"Open In Colab\"/></a>"
      ]
    },
    {
      "cell_type": "markdown",
      "metadata": {
        "id": "u4O5RfMZ00Pm"
      },
      "source": [
        "# Introduction to Neural Networks - Lab"
      ]
    },
    {
      "cell_type": "markdown",
      "metadata": {
        "id": "V7G_VSqO00Pq"
      },
      "source": [
        "## Introduction"
      ]
    },
    {
      "cell_type": "markdown",
      "metadata": {
        "id": "UDJaEpUd00Pr"
      },
      "source": [
        "In this lab, you'll practice everything you have learned during the lecture. We know there is quite a bit of math involved, but don't worry! Using Python and trying things out yourself will actually make a lot of things much more clear! Before we start, let's load some necessary libraries so we can import our data."
      ]
    },
    {
      "cell_type": "markdown",
      "metadata": {
        "id": "XqqJhMwo00Ps"
      },
      "source": [
        "## Objectives\n",
        "\n",
        "In this lab you will:\n",
        "\n",
        "- Import images using Keras \n",
        "- Build a \"shallow\" neural network from scratch "
      ]
    },
    {
      "cell_type": "markdown",
      "metadata": {
        "id": "_wJZlr0K00Ps"
      },
      "source": [
        "As usual, we'll start by importing the necessary packages that we'll use in this lab. "
      ]
    },
    {
      "cell_type": "code",
      "execution_count": 1,
      "metadata": {
        "colab": {
          "base_uri": "https://localhost:8080/",
          "height": 0
        },
        "id": "-0n6roiB00Pt",
        "outputId": "0938a87c-54fc-4ac5-bc8b-7b08fa8fcca4"
      },
      "outputs": [
        {
          "output_type": "stream",
          "name": "stdout",
          "text": [
            "Looking in indexes: https://pypi.org/simple, https://us-python.pkg.dev/colab-wheels/public/simple/\n",
            "Requirement already satisfied: pillow in /usr/local/lib/python3.7/dist-packages (7.1.2)\n"
          ]
        }
      ],
      "source": [
        "!pip install pillow"
      ]
    },
    {
      "cell_type": "code",
      "execution_count": 2,
      "metadata": {
        "id": "x5ETcomm00Pv"
      },
      "outputs": [],
      "source": [
        "from keras.preprocessing.image import ImageDataGenerator, \\\n",
        "array_to_img, img_to_array, load_img\n",
        "import numpy as np\n",
        "import os"
      ]
    },
    {
      "cell_type": "markdown",
      "metadata": {
        "id": "H4sIetys00Pw"
      },
      "source": [
        "In this lab, you'll import a bunch of images to correctly classify them as \"Santa\", meaning that Santa is present on the image or \"not Santa\" meaning that something else is in the images. \n",
        "\n",
        "If you have a look at this GitHub repository, you'll notice that the images are simply stored in `.jpeg` files and stored under the folder `'/data'`. Luckily, `keras` has great modules that make importing images stored in this type of format easy. We'll do this for you in the cell below.\n",
        "\n",
        "The images in the `'/data'` folder have various resolutions. We will reshape them so they are all 64 x 64 pixels."
      ]
    },
    {
      "cell_type": "code",
      "source": [
        "from zipfile import ZipFile\n",
        "data = '/data.zip'\n",
        "with ZipFile(data, 'r') as zip:\n",
        "  zip.extractall()\n",
        "  print('Done')"
      ],
      "metadata": {
        "colab": {
          "base_uri": "https://localhost:8080/",
          "height": 0
        },
        "id": "M6wWqTmG7vbJ",
        "outputId": "61193bdc-67cd-4591-d50d-9187a222ebba"
      },
      "execution_count": 15,
      "outputs": [
        {
          "output_type": "stream",
          "name": "stdout",
          "text": [
            "Done\n"
          ]
        }
      ]
    },
    {
      "cell_type": "code",
      "execution_count": 16,
      "metadata": {
        "colab": {
          "base_uri": "https://localhost:8080/",
          "height": 0
        },
        "id": "EFm2mP-100Px",
        "outputId": "27643894-a657-44d3-8601-20353861988e"
      },
      "outputs": [
        {
          "output_type": "stream",
          "name": "stdout",
          "text": [
            "Found 132 images belonging to 2 classes.\n",
            "Found 790 images belonging to 2 classes.\n"
          ]
        }
      ],
      "source": [
        "# Directory path\n",
        "train_data_dir = 'data/train'\n",
        "test_data_dir = 'data/validation'\n",
        "\n",
        "# Get all the data in the directory data/validation (132 images), \n",
        "# and reshape them\n",
        "test_generator = ImageDataGenerator().flow_from_directory(\n",
        "        test_data_dir, \n",
        "        target_size=(64, 64), batch_size=132)\n",
        "\n",
        "# Get all the data in the directory data/train (790 images), and reshape them\n",
        "train_generator = ImageDataGenerator().flow_from_directory(\n",
        "        train_data_dir, \n",
        "        target_size=(64, 64), batch_size=790)\n",
        "\n",
        "# Create the datasets\n",
        "train_images, train_labels = next(train_generator)\n",
        "test_images, test_labels = next(test_generator)"
      ]
    },
    {
      "cell_type": "markdown",
      "metadata": {
        "id": "yEtlDL3N00Py"
      },
      "source": [
        "## Inspect and prepare data"
      ]
    },
    {
      "cell_type": "markdown",
      "metadata": {
        "id": "2Qg0Vlpy00Pz"
      },
      "source": [
        "## Look at some images"
      ]
    },
    {
      "cell_type": "markdown",
      "metadata": {
        "id": "n_Lfffsw00Pz"
      },
      "source": [
        "Note that we have four numpy arrays now: `train_images`, `train_labels`, `test_images`, and `test_labels`. We'll need to make some changes to the data in order to work with them, but before we do anything else, let's have a look at some of the images we loaded in `train_images`. You can use `array_to_img()` from `keras.processing.image` on any image (select any `train_image` using `train_image[index]` to look at it). "
      ]
    },
    {
      "cell_type": "code",
      "execution_count": 20,
      "metadata": {
        "colab": {
          "base_uri": "https://localhost:8080/",
          "height": 81
        },
        "id": "GJrJHwxO00Pz",
        "outputId": "00851a5a-db07-47c0-ce3b-2b4826c5ee14"
      },
      "outputs": [
        {
          "output_type": "execute_result",
          "data": {
            "text/plain": [
              "<PIL.Image.Image image mode=RGB size=64x64 at 0x7F4C48F83150>"
            ],
            "image/png": "[encoded data removed]"
          },
          "metadata": {},
          "execution_count": 20
        }
      ],
      "source": [
        "# Preview an image\n",
        "array_to_img(train_images[10])"
      ]
    },
    {
      "cell_type": "code",
      "execution_count": 21,
      "metadata": {
        "colab": {
          "base_uri": "https://localhost:8080/",
          "height": 81
        },
        "id": "sdvTttlS00P0",
        "outputId": "68347835-aa40-4003-ae4d-7532318b5549"
      },
      "outputs": [
        {
          "output_type": "execute_result",
          "data": {
            "text/plain": [
              "<PIL.Image.Image image mode=RGB size=64x64 at 0x7F4C48F83AD0>"
            ],
            "image/png": "[encoded data removed]"
          },
          "metadata": {},
          "execution_count": 21
        }
      ],
      "source": [
        "# Preview another image\n",
        "array_to_img(train_images[300])"
      ]
    },
    {
      "cell_type": "markdown",
      "metadata": {
        "id": "UKko7a3R00P0"
      },
      "source": [
        "## The shape of data"
      ]
    },
    {
      "cell_type": "markdown",
      "metadata": {
        "id": "i7YvF_n900P0"
      },
      "source": [
        "Now, let's use `np.shape()` to look at what these numpy arrays look like."
      ]
    },
    {
      "cell_type": "code",
      "execution_count": 22,
      "metadata": {
        "colab": {
          "base_uri": "https://localhost:8080/",
          "height": 0
        },
        "id": "8AkCJBWC00P1",
        "outputId": "51a78c96-c4cd-433b-a867-e4429f499f33"
      },
      "outputs": [
        {
          "output_type": "stream",
          "name": "stdout",
          "text": [
            "(790, 64, 64, 3)\n",
            "(790, 2)\n",
            "(132, 64, 64, 3)\n",
            "(132, 2)\n"
          ]
        }
      ],
      "source": [
        "# Preview the shape of both the images and labels for both the train and \n",
        "# test sets (4 objects total)\n",
        "print(np.shape(train_images))\n",
        "print(np.shape(train_labels))\n",
        "print(np.shape(test_images))\n",
        "print(np.shape(test_labels))"
      ]
    },
    {
      "cell_type": "markdown",
      "metadata": {
        "id": "-2ijz2Yp00P1"
      },
      "source": [
        "##  `train_images` and `test_images`"
      ]
    },
    {
      "cell_type": "markdown",
      "metadata": {
        "id": "h5pHJssl00P1"
      },
      "source": [
        "Let's start with `train_images`. From the lesson, you might remember that the expected input shape is $n$ x $l$. How does this relate to what we see here?\n",
        "\n",
        "$l$ denotes the number of observations, or the number of images. The number of images in `train_images` is 790. $n$ is the number of elements in the feature vector for each image, or put differently, $n$ is the number of rows when unrowing the 3 (RGB) 64 x 64 matrices. \n",
        "\n",
        "So, translated to this example, we need to transform our `(790, 64, 64, 3)` matrix to a `(64*64*3, 790)` matrix! \n",
        "\n",
        "\n",
        "> Hint: You should use both the `.reshape()` method and then transpose the result using `.T`."
      ]
    },
    {
      "cell_type": "code",
      "execution_count": 23,
      "metadata": {
        "id": "gYInGknh00P1"
      },
      "outputs": [],
      "source": [
        "# Reshape the train images \n",
        "train_img_unrow = train_images.reshape(790, -1).T"
      ]
    },
    {
      "cell_type": "markdown",
      "metadata": {
        "id": "XQa77hY900P2"
      },
      "source": [
        "Verify that the shape of the the newly created `train_img_unrow` is correct."
      ]
    },
    {
      "cell_type": "code",
      "execution_count": 24,
      "metadata": {
        "colab": {
          "base_uri": "https://localhost:8080/",
          "height": 0
        },
        "id": "9PJoqvy400P2",
        "outputId": "3816fca2-5f4a-435d-d53b-a98e29dfd3e4"
      },
      "outputs": [
        {
          "output_type": "stream",
          "name": "stdout",
          "text": [
            "(12288, 790)\n"
          ]
        }
      ],
      "source": [
        "# Preview the shape of train_img_unrow\n",
        "print(np.shape(train_img_unrow))"
      ]
    },
    {
      "cell_type": "markdown",
      "metadata": {
        "id": "HHjKYeDS00P2"
      },
      "source": [
        "Next, let's transform `test_images` in a similar way. Note that the dimensions are different here! Where we needed to have a matrix shape of $n$ x $l$ for `train_images`; for `test_images`, we need to get to a shape of $n$ x $m$. What is $m$ here?"
      ]
    },
    {
      "cell_type": "code",
      "execution_count": 25,
      "metadata": {
        "id": "34gzTge800P2"
      },
      "outputs": [],
      "source": [
        "# Define appropriate m \n",
        "m = 132\n",
        "test_img_unrow = test_images.reshape(m, -1).T"
      ]
    },
    {
      "cell_type": "code",
      "execution_count": 26,
      "metadata": {
        "colab": {
          "base_uri": "https://localhost:8080/",
          "height": 0
        },
        "id": "aVVqMPqg00P2",
        "outputId": "ed1beb9c-2ffb-4d68-816a-54515cbb4417"
      },
      "outputs": [
        {
          "output_type": "execute_result",
          "data": {
            "text/plain": [
              "(12288, 132)"
            ]
          },
          "metadata": {},
          "execution_count": 26
        }
      ],
      "source": [
        "# Preview the shape of test_img_unrow\n",
        "np.shape(test_img_unrow)"
      ]
    },
    {
      "cell_type": "markdown",
      "metadata": {
        "id": "BWG5JI1w00P3"
      },
      "source": [
        "## `train_labels` and `test_labels`"
      ]
    },
    {
      "cell_type": "markdown",
      "metadata": {
        "id": "BX50Zn1o00P3"
      },
      "source": [
        "Earlier, you noticed that `train_labels` and `test_labels` have shapes of $(790, 2)$ and $(132, 2)$ respectively. In the lesson, we expected $1$ x $l$ and $1$ x $m$.\n",
        "\n",
        "Let's have a closer look."
      ]
    },
    {
      "cell_type": "code",
      "execution_count": 27,
      "metadata": {
        "colab": {
          "base_uri": "https://localhost:8080/",
          "height": 0
        },
        "id": "TdxrXxQu00P3",
        "outputId": "0394390b-b3e1-491b-c33d-54c76267d9a6"
      },
      "outputs": [
        {
          "output_type": "execute_result",
          "data": {
            "text/plain": [
              "array([[0., 1.],\n",
              "       [0., 1.],\n",
              "       [1., 0.],\n",
              "       ...,\n",
              "       [0., 1.],\n",
              "       [1., 0.],\n",
              "       [0., 1.]], dtype=float32)"
            ]
          },
          "metadata": {},
          "execution_count": 27
        }
      ],
      "source": [
        "# Run this cell; no need to edit\n",
        "train_labels "
      ]
    },
    {
      "cell_type": "markdown",
      "metadata": {
        "id": "uZIhVgCa00P3"
      },
      "source": [
        "Looking at this, it's clear that for each observation (or image), `train_labels` doesn't simply have an output of 1 or 0, but a pair - either `[0, 1]` or `[1, 0]`.\n",
        "\n",
        "Having this information, we still don't know which pair corresponds with `santa` versus `not_santa`. Luckily, this was stored using `keras.preprocessing_image`, and you can get more info using the command `train_generator.class_indices`."
      ]
    },
    {
      "cell_type": "code",
      "execution_count": 28,
      "metadata": {
        "colab": {
          "base_uri": "https://localhost:8080/",
          "height": 0
        },
        "id": "5s15fEYY00P3",
        "outputId": "cd7b4431-2a14-4008-eaea-00e68ba87e95"
      },
      "outputs": [
        {
          "output_type": "execute_result",
          "data": {
            "text/plain": [
              "{'not_santa': 0, 'santa': 1}"
            ]
          },
          "metadata": {},
          "execution_count": 28
        }
      ],
      "source": [
        "# Run this cell; no need to edit\n",
        "train_generator.class_indices "
      ]
    },
    {
      "cell_type": "markdown",
      "metadata": {
        "id": "VUgaM1ZX00P3"
      },
      "source": [
        "Index 0 (the first column) represents `not_santa`, index 1 represents `santa`. Select one of the two columns and transpose the result such that you get $1$ x $l$ and $1$ x $m$ vectors respectively, and value `1` represents `santa`. "
      ]
    },
    {
      "cell_type": "code",
      "execution_count": 29,
      "metadata": {
        "id": "_JlqmprN00P3"
      },
      "outputs": [],
      "source": [
        "# Your code here\n",
        "train_labels_final = train_labels.T[[1]]"
      ]
    },
    {
      "cell_type": "code",
      "execution_count": 30,
      "metadata": {
        "colab": {
          "base_uri": "https://localhost:8080/",
          "height": 0
        },
        "id": "S0J9hDei00P3",
        "outputId": "5372adf2-47d9-404a-8459-64ae525c547b"
      },
      "outputs": [
        {
          "output_type": "execute_result",
          "data": {
            "text/plain": [
              "(1, 790)"
            ]
          },
          "metadata": {},
          "execution_count": 30
        }
      ],
      "source": [
        "# Run this cell; no need to edit\n",
        "np.shape(train_labels_final) "
      ]
    },
    {
      "cell_type": "code",
      "execution_count": 31,
      "metadata": {
        "id": "PK-8blWH00P4"
      },
      "outputs": [],
      "source": [
        "# Your code here\n",
        "test_labels_final = test_labels.T[[1]]"
      ]
    },
    {
      "cell_type": "code",
      "execution_count": 32,
      "metadata": {
        "colab": {
          "base_uri": "https://localhost:8080/",
          "height": 0
        },
        "id": "pFTj1X7u00P4",
        "outputId": "1702e845-23ce-4813-a289-0c273b8928d4"
      },
      "outputs": [
        {
          "output_type": "execute_result",
          "data": {
            "text/plain": [
              "(1, 132)"
            ]
          },
          "metadata": {},
          "execution_count": 32
        }
      ],
      "source": [
        "# Run this cell; no need to edit\n",
        "np.shape(test_labels_final) "
      ]
    },
    {
      "cell_type": "markdown",
      "metadata": {
        "id": "eEXIZCrE00P4"
      },
      "source": [
        "As a final sanity check, look at an image and the corresponding label, so we're sure that santa is indeed stored as 1.\n",
        "\n",
        "- First, use `array_to_image()` again on the original `train_images` with index 240 to look at this particular image \n",
        "- Use `train_labels_final` to get the 240th label "
      ]
    },
    {
      "cell_type": "code",
      "execution_count": 41,
      "metadata": {
        "colab": {
          "base_uri": "https://localhost:8080/",
          "height": 81
        },
        "id": "Cp0WokbV00P4",
        "outputId": "322b39ae-c18b-478f-a9ed-d300d88f38a9"
      },
      "outputs": [
        {
          "output_type": "execute_result",
          "data": {
            "text/plain": [
              "<PIL.Image.Image image mode=RGB size=64x64 at 0x7F4C48D12890>"
            ],
            "image/png": "[encoded data removed]"
          },
          "metadata": {},
          "execution_count": 41
        }
      ],
      "source": [
        "# Preview train image at index 240\n",
        "array_to_img(train_images[240])"
      ]
    },
    {
      "cell_type": "code",
      "execution_count": 42,
      "metadata": {
        "colab": {
          "base_uri": "https://localhost:8080/",
          "height": 0
        },
        "id": "ogv-0hPS00P4",
        "outputId": "9293f182-b4cc-49c3-b464-4a4abb657c9b"
      },
      "outputs": [
        {
          "output_type": "execute_result",
          "data": {
            "text/plain": [
              "array([1.], dtype=float32)"
            ]
          },
          "metadata": {},
          "execution_count": 42
        }
      ],
      "source": [
        "# Preview train label at index 240\n",
        "train_labels_final[:,240]"
      ]
    },
    {
      "cell_type": "markdown",
      "metadata": {
        "id": "LoRL_GNB00P4"
      },
      "source": [
        "This seems to be correct! Feel free to try out other indices as well."
      ]
    },
    {
      "cell_type": "markdown",
      "metadata": {
        "id": "86x4N-k000P4"
      },
      "source": [
        "## Standardize the data"
      ]
    },
    {
      "cell_type": "markdown",
      "metadata": {
        "id": "KpC9-IYA00P4"
      },
      "source": [
        "Remember that each RGB pixel in an image takes a value between 0 and 255. In Deep Learning, it is very common to standardize and/or center your dataset. For images, a common thing that is done is to make sure each pixel value is between 0 and 1. This can be done by dividing the entire matrix by 255. Do this here for the `train_img_unrow` and `test_img_unrow`. "
      ]
    },
    {
      "cell_type": "code",
      "execution_count": 44,
      "metadata": {
        "colab": {
          "base_uri": "https://localhost:8080/",
          "height": 0
        },
        "id": "dck-UxGP00P5",
        "outputId": "dda456db-a776-49ec-9913-b999711933f2"
      },
      "outputs": [
        {
          "output_type": "execute_result",
          "data": {
            "text/plain": [
              "numpy.ndarray"
            ]
          },
          "metadata": {},
          "execution_count": 44
        }
      ],
      "source": [
        "# Your code here \n",
        "train_img_final = train_img_unrow/255\n",
        "test_img_final = test_img_unrow/255\n",
        "\n",
        "type(test_img_unrow)"
      ]
    },
    {
      "cell_type": "markdown",
      "metadata": {
        "id": "DUTiHydI00P5"
      },
      "source": [
        "## Build a logistic regression-based neural network"
      ]
    },
    {
      "cell_type": "markdown",
      "metadata": {
        "id": "LAfwfpDv00P5"
      },
      "source": [
        "## Math recap"
      ]
    },
    {
      "cell_type": "markdown",
      "metadata": {
        "id": "pngB6HmP00P5"
      },
      "source": [
        "Now we can go ahead and build our own basic logistic regression-based neural network to distinguish images with Santa from images without Santa. You saw in the lesson that logistic regression can actually be represented as a very simple neural network.\n",
        "\n",
        "Remember that we defined that, for each $x^{(i)}$:\n",
        "\n",
        "\n",
        "$$ \\mathcal{L}(\\hat y ^{(i)}, y^{(i)}) =  - \\big( y^{(i)} \\log(\\hat y^{(i)}) + (1-y^{(i)} )  \\log(1-\\hat y^{(i)})\\big)$$\n",
        "\n",
        "$$\\hat{y}^{(i)} = \\sigma(z^{(i)}) = \\frac{1}{1 + e^{-(z^{(i)})}}$$ \n",
        "\n",
        "$$z^{(i)} = w^T x^{(i)} + b$$\n",
        "\n",
        "The cost function is then given by:\n",
        "$$J(w,b) = \\dfrac{1}{l}\\displaystyle\\sum^l_{i=1}\\mathcal{L}(\\hat y^{(i)}, y^{(i)})$$"
      ]
    },
    {
      "cell_type": "markdown",
      "metadata": {
        "id": "Dj4ME8P500P5"
      },
      "source": [
        "In the remainder of this lab, you'll do the following:\n",
        "\n",
        "   - Initialize the parameters of the model\n",
        "   - Perform forward propagation, and calculate the current loss\n",
        "   - Perform backward propagation (which is basically calculating the current gradient)\n",
        "   - Update the parameters (gradient descent)"
      ]
    },
    {
      "cell_type": "markdown",
      "metadata": {
        "id": "Q6lbFxn900P5"
      },
      "source": [
        "## Parameter initialization"
      ]
    },
    {
      "cell_type": "markdown",
      "metadata": {
        "id": "ZN5uEim500P5"
      },
      "source": [
        "$w$ and $b$ are the unknown parameters to start with: \n",
        "- remember that $b$ is a scalar\n",
        "- $w$ however, is a vector of shape $n$ x $1$, with $n$ being `horizontal_pixel x vertical_pixel x 3`"
      ]
    },
    {
      "cell_type": "markdown",
      "metadata": {
        "id": "_jloZn_o00P5"
      },
      "source": [
        "## Initialize $b$"
      ]
    },
    {
      "cell_type": "markdown",
      "metadata": {
        "id": "hpRk0Ti_00P5"
      },
      "source": [
        " Initialize $b$ as a scalar with value 0."
      ]
    },
    {
      "cell_type": "code",
      "execution_count": 45,
      "metadata": {
        "id": "4dq7Rawj00P5"
      },
      "outputs": [],
      "source": [
        "# Your code here\n",
        "b = 0"
      ]
    },
    {
      "cell_type": "markdown",
      "metadata": {
        "id": "qNYCOOig00P5"
      },
      "source": [
        "## Initialize $w$"
      ]
    },
    {
      "cell_type": "markdown",
      "metadata": {
        "id": "C2za1WkV00P6"
      },
      "source": [
        "Define a function `init_w()`, with a parameter `n`. The function should return an array with zeros that has a shape $n$ x $1$."
      ]
    },
    {
      "cell_type": "code",
      "execution_count": 46,
      "metadata": {
        "id": "fBDW1jy000P6"
      },
      "outputs": [],
      "source": [
        "# Define your function\n",
        "def init_w(n):\n",
        "    w = np.zeros((n, 1))\n",
        "    return w"
      ]
    },
    {
      "cell_type": "code",
      "execution_count": 47,
      "metadata": {
        "id": "U0iO3qay00P6"
      },
      "outputs": [],
      "source": [
        "# Call your function using appropriate parameters\n",
        "w = init_w(64*64*3)"
      ]
    },
    {
      "cell_type": "markdown",
      "metadata": {
        "id": "ASDC5kMT00P6"
      },
      "source": [
        "## Forward propagation"
      ]
    },
    {
      "cell_type": "markdown",
      "metadata": {
        "id": "_udiNEiP00P6"
      },
      "source": [
        "In forward propagation, you:\n",
        "- get `x`\n",
        "- compute `y_hat`: \n",
        "\n",
        "$$ (\\hat y^{(1)}, \\hat y^{(2)}, \\ldots , \\hat y^{(l)})= \\sigma(w^T x + b) = \\Biggr(\\dfrac{1}{1+exp(w^T x^{(1)}+ b)},\\ldots, \\dfrac{1}{1+exp(w^T x^{(l)}+ b)}\\Biggr) $$\n",
        "- You calculate the `cost` function: $J(w,b) = -\\dfrac{1}{l}\\displaystyle\\sum_{i=1}^{l}y^{(i)}\\log(\\hat y^{(i)})+(1-y^{(i)})\\log(1-\\hat y^{(i)})$\n",
        "\n",
        "Here are the two formulas you will be using to compute the gradients. Don't be scared by the mathematics. The long formulas are just to show that this corresponds with what we derived in the lesson!\n",
        "\n",
        "$$ \\frac{dJ(w,b)}{dw} = \\displaystyle\\frac{1}{l}\\displaystyle\\sum^l_{i=1} \\frac{d\\mathcal{L}(\\hat y^{(i)}, y^{(i)})}{dw}= \\displaystyle\\frac{1}{l}\\displaystyle\\sum^l_{i=1} x^{(i)} dz^{(i)}  = \\displaystyle\\frac{1}{l}\\displaystyle\\sum^l_{i=1} x^{(i)}(\\hat y^{(i)}-y^{(i)})  = \\frac{1}{l}x(\\hat y-y)^T$$\n",
        "\n",
        "$$ \\frac{dJ(w,b)}{db} = \\displaystyle\\frac{1}{l}\\displaystyle\\sum^l_{i=1} \\frac{d\\mathcal{L}(\\hat y^{(i)}, y^{(i)})}{db}= \\displaystyle\\frac{1}{l}\\displaystyle\\sum^l_{i=1} dz^{(i)}  = \\displaystyle\\frac{1}{l}\\displaystyle\\sum^l_{i=1} (\\hat y^{(i)}-y^{(i)})$$"
      ]
    },
    {
      "cell_type": "code",
      "execution_count": 48,
      "metadata": {
        "id": "UTcGDo4U00P6"
      },
      "outputs": [],
      "source": [
        "# Define the propagation function\n",
        "def propagation(w, b, x, y):\n",
        "    l = x.shape[1]\n",
        "    y_hat = 1/(1 + np.exp(- (np.dot(w.T, x) + b)))                                  \n",
        "    cost = -(1/l) * np.sum(y * np.log(y_hat) + (1-y)* np.log(1 - y_hat))    \n",
        "    dw = (1/l) * np.dot(x,(y_hat - y).T)\n",
        "    db = (1/l) * np.sum(y_hat - y)\n",
        "    return dw, db, cost"
      ]
    },
    {
      "cell_type": "code",
      "execution_count": 49,
      "metadata": {
        "id": "Lql9hB_800P6"
      },
      "outputs": [],
      "source": [
        "# Use the propogation function\n",
        "dw, db, cost = propagation(w, b, train_img_final, train_labels_final)"
      ]
    },
    {
      "cell_type": "code",
      "execution_count": 50,
      "metadata": {
        "colab": {
          "base_uri": "https://localhost:8080/",
          "height": 0
        },
        "id": "x-VBcA1x00P6",
        "outputId": "4b42f352-4077-44dc-e3e5-0351e5f4b60d"
      },
      "outputs": [
        {
          "output_type": "stream",
          "name": "stdout",
          "text": [
            "[[-0.05784065]\n",
            " [-0.05436336]\n",
            " [-0.06367089]\n",
            " ...\n",
            " [-0.07482998]\n",
            " [-0.06692231]\n",
            " [-0.07262596]]\n",
            "-0.01139240506329114\n",
            "0.6931471805599452\n"
          ]
        }
      ],
      "source": [
        "print(dw)\n",
        "\n",
        "print(db)\n",
        "\n",
        "print(cost)"
      ]
    },
    {
      "cell_type": "markdown",
      "metadata": {
        "id": "62unuVD800P7"
      },
      "source": [
        "## Optimization"
      ]
    },
    {
      "cell_type": "markdown",
      "metadata": {
        "id": "9fdJJ3Vc00P7"
      },
      "source": [
        "Next, in the optimization step, we have to update $w$ and $b$ as follows:\n",
        "\n",
        "$$w := w - \\alpha * dw$$\n",
        "$$b := b - \\alpha * db$$\n",
        "\n",
        "Note that this `optimization()` function uses the `propagation()` function. It loops over the `propagation()` function in each iteration, and updates both $w$ and $b$ right after that! "
      ]
    },
    {
      "cell_type": "code",
      "execution_count": 51,
      "metadata": {
        "id": "peYN8ffC00P7"
      },
      "outputs": [],
      "source": [
        "# Complete the function below using your propagation function to define \n",
        "# dw, db and cost \n",
        "# Then use the formula above to update w and b in the optimization function \n",
        "def optimization(w, b, x, y, num_iterations, learning_rate, print_cost = False):\n",
        "    \n",
        "    costs = []\n",
        "    \n",
        "    for i in range(num_iterations):\n",
        "        dw, db, cost = propagation(w, b, x, y)    \n",
        "        w = w - learning_rate*dw\n",
        "        b = b - learning_rate*db\n",
        "        \n",
        "        # Record the costs and print them every 50 iterations\n",
        "        if i % 50 == 0:\n",
        "            costs.append(cost)\n",
        "        if print_cost and i % 50 == 0:\n",
        "            print (\"Cost after iteration %i: %f\" %(i, cost))\n",
        "    \n",
        "    return w, b, costs"
      ]
    },
    {
      "cell_type": "code",
      "execution_count": 52,
      "metadata": {
        "colab": {
          "base_uri": "https://localhost:8080/",
          "height": 0
        },
        "id": "RJSYBde100P7",
        "outputId": "db6f068f-d6f4-476c-c3cd-a37912559b4c"
      },
      "outputs": [
        {
          "output_type": "stream",
          "name": "stdout",
          "text": [
            "Cost after iteration 0: 0.693147\n",
            "Cost after iteration 50: 0.675005\n",
            "Cost after iteration 100: 0.668414\n",
            "Cost after iteration 150: 0.662114\n"
          ]
        }
      ],
      "source": [
        "# Run this block of code as is\n",
        "w, b, costs = optimization(w, b, train_img_final, train_labels_final, \n",
        "                           num_iterations= 151, learning_rate = 0.0001,\n",
        "                           print_cost = True)"
      ]
    },
    {
      "cell_type": "markdown",
      "metadata": {
        "id": "rKlD_gDZ00P7"
      },
      "source": [
        "## Make label predictions: Santa or not?"
      ]
    },
    {
      "cell_type": "markdown",
      "metadata": {
        "id": "hEziQn7X00P7"
      },
      "source": [
        "Next, let's create a function that makes label predictions. We'll later use this when we will look at our Santa pictures. What we want is a label that is equal to 1 when the predicted $y$ is bigger than 0.5, and 0 otherwise. "
      ]
    },
    {
      "cell_type": "code",
      "execution_count": 53,
      "metadata": {
        "id": "6P_07Y0B00P7"
      },
      "outputs": [],
      "source": [
        "def prediction(w, b, x):\n",
        "    l = x.shape[1]\n",
        "    y_prediction = np.zeros((1, l))\n",
        "    w = w.reshape(x.shape[0], 1)\n",
        "    y_hat = 1/(1 + np.exp(- (np.dot(w.T, x) + b))) \n",
        "    p = y_hat\n",
        "    \n",
        "    for i in range(y_hat.shape[1]):\n",
        "        if (y_hat[0,i] > 0.5): \n",
        "            y_prediction[0, i] = 1\n",
        "        else:\n",
        "            y_prediction[0, i] = 0\n",
        "    return y_prediction"
      ]
    },
    {
      "cell_type": "markdown",
      "metadata": {
        "id": "qjHJarhU00P7"
      },
      "source": [
        "Let's try this out on a small example. Make sure you have 4 predictions in your output here!"
      ]
    },
    {
      "cell_type": "code",
      "execution_count": 54,
      "metadata": {
        "colab": {
          "base_uri": "https://localhost:8080/",
          "height": 0
        },
        "id": "cNw6ggW800P7",
        "outputId": "b8be21be-7f96-46a0-ebb9-7c9d7c59d318"
      },
      "outputs": [
        {
          "output_type": "execute_result",
          "data": {
            "text/plain": [
              "array([[1., 1., 0., 0.]])"
            ]
          },
          "metadata": {},
          "execution_count": 54
        }
      ],
      "source": [
        "# Run this block of code as is\n",
        "w = np.array([[0.035], [0.123], [0.217]])\n",
        "b = 0.2\n",
        "x = np.array([[0.2, 0.4, -1.2, -2], \n",
        "              [1, -2., 0.1, -1], \n",
        "              [0.2, 0.4, -1.2, -2]])\n",
        "\n",
        "prediction(w, b, x)"
      ]
    },
    {
      "cell_type": "markdown",
      "metadata": {
        "id": "mf8YLqjQ00P8"
      },
      "source": [
        "## The overall model"
      ]
    },
    {
      "cell_type": "markdown",
      "metadata": {
        "id": "6bBAcCHO00P8"
      },
      "source": [
        "Now, let's build the overall model!"
      ]
    },
    {
      "cell_type": "code",
      "execution_count": 57,
      "metadata": {
        "id": "URVXXNkw00P8"
      },
      "outputs": [],
      "source": [
        "# Review this code carefully\n",
        "def model(x_train, y_train, x_test, y_test, num_iterations = 2000,\n",
        "          learning_rate = 0.5, print_cost = False):\n",
        "\n",
        "    b = 0\n",
        "    w = init_w(np.shape(x_train)[0]) \n",
        "\n",
        "    # Gradient descent (≈ 1 line of code)\n",
        "    w, b, costs = optimization(w, b, x_train, y_train, num_iterations,\n",
        "                               learning_rate, print_cost)\n",
        "    \n",
        "    y_pred_test = prediction(w, b, x_test)\n",
        "    y_pred_train = prediction(w, b, x_train)\n",
        "\n",
        "    # Print train/test errors\n",
        "    print('train accuracy: {} %'.format(100 - np.mean(np.abs(\n",
        "        y_pred_train - y_train)) * 100))\n",
        "    print('test accuracy: {} %'.format(100 - np.mean(np.abs(\n",
        "        y_pred_test - y_test)) * 100))\n",
        "\n",
        "    output = {'costs': costs, \n",
        "              'y_pred_test': y_pred_test,  \n",
        "              'y_pred_train' : y_pred_train,  \n",
        "              'w' : w, \n",
        "              'b' : b, \n",
        "              'learning_rate' : learning_rate, \n",
        "              'num_iterations': num_iterations}\n",
        "    \n",
        "    return output"
      ]
    },
    {
      "cell_type": "code",
      "execution_count": 59,
      "metadata": {
        "colab": {
          "base_uri": "https://localhost:8080/",
          "height": 0
        },
        "id": "yMa8OvGN00P8",
        "outputId": "7ed1f165-1263-4ed5-8ea3-d2243c3828c3"
      },
      "outputs": [
        {
          "output_type": "stream",
          "name": "stdout",
          "text": [
            "Cost after iteration 0: 0.693147\n",
            "Cost after iteration 50: 0.880402\n",
            "Cost after iteration 100: 0.763331\n",
            "Cost after iteration 150: 0.628797\n",
            "Cost after iteration 200: 0.518186\n",
            "Cost after iteration 250: 0.442320\n",
            "Cost after iteration 300: 0.391254\n",
            "Cost after iteration 350: 0.354488\n",
            "Cost after iteration 400: 0.326262\n",
            "Cost after iteration 450: 0.304070\n",
            "Cost after iteration 500: 0.287473\n",
            "Cost after iteration 550: 0.276690\n",
            "Cost after iteration 600: 0.269139\n",
            "Cost after iteration 650: 0.262364\n",
            "Cost after iteration 700: 0.255995\n",
            "Cost after iteration 750: 0.249976\n",
            "Cost after iteration 800: 0.244271\n",
            "Cost after iteration 850: 0.238848\n",
            "Cost after iteration 900: 0.233684\n",
            "Cost after iteration 950: 0.228756\n",
            "Cost after iteration 1000: 0.224046\n",
            "Cost after iteration 1050: 0.219537\n",
            "Cost after iteration 1100: 0.215215\n",
            "Cost after iteration 1150: 0.211066\n",
            "Cost after iteration 1200: 0.207080\n",
            "Cost after iteration 1250: 0.203246\n",
            "Cost after iteration 1300: 0.199553\n",
            "Cost after iteration 1350: 0.195995\n",
            "Cost after iteration 1400: 0.192562\n",
            "Cost after iteration 1450: 0.189248\n",
            "Cost after iteration 1500: 0.186047\n",
            "Cost after iteration 1550: 0.182951\n",
            "Cost after iteration 1600: 0.179957\n",
            "Cost after iteration 1650: 0.177057\n",
            "Cost after iteration 1700: 0.174249\n",
            "Cost after iteration 1750: 0.171527\n",
            "Cost after iteration 1800: 0.168887\n",
            "Cost after iteration 1850: 0.166326\n",
            "Cost after iteration 1900: 0.163839\n",
            "Cost after iteration 1950: 0.161424\n",
            "train accuracy: 96.9620253164557 %\n",
            "test accuracy: 55.535686593506135 %\n"
          ]
        }
      ],
      "source": [
        "# Run the model!\n",
        "# ⏰ Expect your code to take several minutes to run\n",
        "output = model(train_img_final, train_labels_final, test_img_final,\n",
        "               test_img_final, num_iterations=2000, learning_rate=0.005, \n",
        "               print_cost=True)"
      ]
    },
    {
      "cell_type": "markdown",
      "metadata": {
        "id": "q-pSiCAO00P8"
      },
      "source": [
        "## Summary\n",
        "\n",
        "Well done! In this lab you built your first neural network in order to identify images of Santa! In the upcoming labs you'll see how to extend your neural networks to include a larger number of layers and how to then successively prune these complex schemas to improve test and train accuracies."
      ]
    }
  ],
  "metadata": {
    "kernelspec": {
      "display_name": "Python 3",
      "language": "python",
      "name": "python3"
    },
    "language_info": {
      "codemirror_mode": {
        "name": "ipython",
        "version": 3
      },
      "file_extension": ".py",
      "mimetype": "text/x-python",
      "name": "python",
      "nbconvert_exporter": "python",
      "pygments_lexer": "ipython3",
      "version": "3.8.5"
    },
    "toc": {
      "base_numbering": 1,
      "nav_menu": {},
      "number_sections": true,
      "sideBar": true,
      "skip_h1_title": false,
      "title_cell": "Table of Contents",
      "title_sidebar": "Contents",
      "toc_cell": false,
      "toc_position": {},
      "toc_section_display": true,
      "toc_window_display": false
    },
    "colab": {
      "name": "index.ipynb",
      "provenance": [],
      "collapsed_sections": [
        "-2ijz2Yp00P1",
        "BWG5JI1w00P3",
        "86x4N-k000P4",
        "DUTiHydI00P5",
        "LAfwfpDv00P5",
        "Q6lbFxn900P5",
        "_jloZn_o00P5",
        "qNYCOOig00P5",
        "ASDC5kMT00P6",
        "62unuVD800P7",
        "rKlD_gDZ00P7",
        "mf8YLqjQ00P8",
        "q-pSiCAO00P8"
      ],
      "include_colab_link": true
    }
  },
  "nbformat": 4,
  "nbformat_minor": 0
}